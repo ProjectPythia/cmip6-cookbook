{
 "cells": [
  {
   "cell_type": "code",
   "execution_count": 2,
   "id": "566b5e29-633c-4aa3-9d27-44e1f2bb5142",
   "metadata": {},
   "outputs": [],
   "source": [
    "import intake\n",
    "\n",
    "# cat = intake.\n",
    "\n",
    "# list(cat)\n",
    "\n",
    "# results = cat.cmip6.search(variable=\"clt\", frequency=\"mon\")"
   ]
  },
  {
   "cell_type": "code",
   "execution_count": 3,
   "id": "30dcf1e6-ccf0-4a40-86a9-35a0bfc815e0",
   "metadata": {},
   "outputs": [],
   "source": [
    "import intake"
   ]
  },
  {
   "cell_type": "code",
   "execution_count": 5,
   "id": "ea3d36ad-0eae-4ae6-a3ac-4522b3f3f792",
   "metadata": {},
   "outputs": [
    {
     "ename": "KeyError",
     "evalue": "'esgf_default_catalog'",
     "output_type": "error",
     "traceback": [
      "\u001b[0;31m---------------------------------------------------------------------------\u001b[0m",
      "\u001b[0;31mKeyError\u001b[0m                                  Traceback (most recent call last)",
      "Cell \u001b[0;32mIn [5], line 1\u001b[0m\n\u001b[0;32m----> 1\u001b[0m \u001b[43mintake\u001b[49m\u001b[38;5;241;43m.\u001b[39;49m\u001b[43mopen_esgf_default_catalog\u001b[49m()\n",
      "File \u001b[0;32m~/miniforge3/envs/cmip6-cookbook-dev/lib/python3.9/site-packages/intake/__init__.py:47\u001b[0m, in \u001b[0;36m__getattr__\u001b[0;34m(attr)\u001b[0m\n\u001b[1;32m     45\u001b[0m gl \u001b[38;5;241m=\u001b[39m \u001b[38;5;28mglobals\u001b[39m()\n\u001b[1;32m     46\u001b[0m \u001b[38;5;28;01mif\u001b[39;00m attr \u001b[38;5;129;01min\u001b[39;00m openers \u001b[38;5;129;01mand\u001b[39;00m attr[:\u001b[38;5;241m5\u001b[39m] \u001b[38;5;241m==\u001b[39m \u001b[38;5;124m\"\u001b[39m\u001b[38;5;124mopen_\u001b[39m\u001b[38;5;124m\"\u001b[39m:\n\u001b[0;32m---> 47\u001b[0m     driver \u001b[38;5;241m=\u001b[39m \u001b[43mregistry\u001b[49m\u001b[43m[\u001b[49m\u001b[43mattr\u001b[49m\u001b[43m[\u001b[49m\u001b[38;5;241;43m5\u001b[39;49m\u001b[43m:\u001b[49m\u001b[43m]\u001b[49m\u001b[43m]\u001b[49m  \u001b[38;5;66;03m# \"open_...\"\u001b[39;00m\n\u001b[1;32m     48\u001b[0m     gl[attr] \u001b[38;5;241m=\u001b[39m driver\n\u001b[1;32m     49\u001b[0m \u001b[38;5;28;01melse\u001b[39;00m:\n",
      "File \u001b[0;32m~/miniforge3/envs/cmip6-cookbook-dev/lib/python3.9/site-packages/intake/source/__init__.py:29\u001b[0m, in \u001b[0;36mDriverRegistry.__getitem__\u001b[0;34m(self, item)\u001b[0m\n\u001b[1;32m     28\u001b[0m \u001b[38;5;28;01mdef\u001b[39;00m \u001b[38;5;21m__getitem__\u001b[39m(\u001b[38;5;28mself\u001b[39m, item):\n\u001b[0;32m---> 29\u001b[0m     it \u001b[38;5;241m=\u001b[39m \u001b[38;5;28;43mself\u001b[39;49m\u001b[38;5;241;43m.\u001b[39;49m\u001b[43mdrivers\u001b[49m\u001b[38;5;241;43m.\u001b[39;49m\u001b[43menabled_plugins\u001b[49m\u001b[43m(\u001b[49m\u001b[43m)\u001b[49m\u001b[43m[\u001b[49m\u001b[43mitem\u001b[49m\u001b[43m]\u001b[49m\n\u001b[1;32m     30\u001b[0m     \u001b[38;5;28;01mif\u001b[39;00m \u001b[38;5;28misinstance\u001b[39m(it, entrypoints\u001b[38;5;241m.\u001b[39mEntryPoint):\n\u001b[1;32m     31\u001b[0m         \u001b[38;5;28;01mreturn\u001b[39;00m it\u001b[38;5;241m.\u001b[39mload()\n",
      "\u001b[0;31mKeyError\u001b[0m: 'esgf_default_catalog'"
     ]
    }
   ],
   "source": [
    "intake.open_esgf_default_catalog()"
   ]
  },
  {
   "cell_type": "code",
   "execution_count": 16,
   "id": "bef08bf8-1dda-4165-813c-ac671c984a4b",
   "metadata": {},
   "outputs": [
    {
     "ename": "KeyError",
     "evalue": "'esgf_default_catalog'",
     "output_type": "error",
     "traceback": [
      "\u001b[0;31m---------------------------------------------------------------------------\u001b[0m",
      "\u001b[0;31mKeyError\u001b[0m                                  Traceback (most recent call last)",
      "Cell \u001b[0;32mIn [16], line 3\u001b[0m\n\u001b[1;32m      1\u001b[0m \u001b[38;5;28;01mimport\u001b[39;00m \u001b[38;5;21;01mintake\u001b[39;00m\n\u001b[0;32m----> 3\u001b[0m cat \u001b[38;5;241m=\u001b[39m \u001b[43mintake\u001b[49m\u001b[38;5;241;43m.\u001b[39;49m\u001b[43mopen_esgf_default_catalog\u001b[49m()\n\u001b[1;32m      5\u001b[0m \u001b[38;5;28mlist\u001b[39m(cat)\n\u001b[1;32m      7\u001b[0m results \u001b[38;5;241m=\u001b[39m cat\u001b[38;5;241m.\u001b[39mcmip6\u001b[38;5;241m.\u001b[39msearch(variable\u001b[38;5;241m=\u001b[39m\u001b[38;5;124m\"\u001b[39m\u001b[38;5;124mclt\u001b[39m\u001b[38;5;124m\"\u001b[39m, frequency\u001b[38;5;241m=\u001b[39m\u001b[38;5;124m\"\u001b[39m\u001b[38;5;124mmon\u001b[39m\u001b[38;5;124m\"\u001b[39m)\n",
      "File \u001b[0;32m~/miniforge3/envs/cmip6-cookbook-dev/lib/python3.9/site-packages/intake/__init__.py:47\u001b[0m, in \u001b[0;36m__getattr__\u001b[0;34m(attr)\u001b[0m\n\u001b[1;32m     45\u001b[0m gl \u001b[38;5;241m=\u001b[39m \u001b[38;5;28mglobals\u001b[39m()\n\u001b[1;32m     46\u001b[0m \u001b[38;5;28;01mif\u001b[39;00m attr \u001b[38;5;129;01min\u001b[39;00m openers \u001b[38;5;129;01mand\u001b[39;00m attr[:\u001b[38;5;241m5\u001b[39m] \u001b[38;5;241m==\u001b[39m \u001b[38;5;124m\"\u001b[39m\u001b[38;5;124mopen_\u001b[39m\u001b[38;5;124m\"\u001b[39m:\n\u001b[0;32m---> 47\u001b[0m     driver \u001b[38;5;241m=\u001b[39m \u001b[43mregistry\u001b[49m\u001b[43m[\u001b[49m\u001b[43mattr\u001b[49m\u001b[43m[\u001b[49m\u001b[38;5;241;43m5\u001b[39;49m\u001b[43m:\u001b[49m\u001b[43m]\u001b[49m\u001b[43m]\u001b[49m  \u001b[38;5;66;03m# \"open_...\"\u001b[39;00m\n\u001b[1;32m     48\u001b[0m     gl[attr] \u001b[38;5;241m=\u001b[39m driver\n\u001b[1;32m     49\u001b[0m \u001b[38;5;28;01melse\u001b[39;00m:\n",
      "File \u001b[0;32m~/miniforge3/envs/cmip6-cookbook-dev/lib/python3.9/site-packages/intake/source/__init__.py:29\u001b[0m, in \u001b[0;36mDriverRegistry.__getitem__\u001b[0;34m(self, item)\u001b[0m\n\u001b[1;32m     28\u001b[0m \u001b[38;5;28;01mdef\u001b[39;00m \u001b[38;5;21m__getitem__\u001b[39m(\u001b[38;5;28mself\u001b[39m, item):\n\u001b[0;32m---> 29\u001b[0m     it \u001b[38;5;241m=\u001b[39m \u001b[38;5;28;43mself\u001b[39;49m\u001b[38;5;241;43m.\u001b[39;49m\u001b[43mdrivers\u001b[49m\u001b[38;5;241;43m.\u001b[39;49m\u001b[43menabled_plugins\u001b[49m\u001b[43m(\u001b[49m\u001b[43m)\u001b[49m\u001b[43m[\u001b[49m\u001b[43mitem\u001b[49m\u001b[43m]\u001b[49m\n\u001b[1;32m     30\u001b[0m     \u001b[38;5;28;01mif\u001b[39;00m \u001b[38;5;28misinstance\u001b[39m(it, entrypoints\u001b[38;5;241m.\u001b[39mEntryPoint):\n\u001b[1;32m     31\u001b[0m         \u001b[38;5;28;01mreturn\u001b[39;00m it\u001b[38;5;241m.\u001b[39mload()\n",
      "\u001b[0;31mKeyError\u001b[0m: 'esgf_default_catalog'"
     ]
    }
   ],
   "source": [
    "import intake\n",
    "\n",
    "cat = intake.open_esgf_default_catalog()\n",
    "\n",
    "list(cat)\n",
    "\n",
    "results = cat.cmip6.search(variable=\"clt\", frequency=\"mon\")"
   ]
  },
  {
   "cell_type": "code",
   "execution_count": null,
   "id": "35a69620-a1d1-45a0-9659-10642d9325b5",
   "metadata": {},
   "outputs": [],
   "source": []
  }
 ],
 "metadata": {
  "kernelspec": {
   "display_name": "Python 3 (ipykernel)",
   "language": "python",
   "name": "python3"
  },
  "language_info": {
   "codemirror_mode": {
    "name": "ipython",
    "version": 3
   },
   "file_extension": ".py",
   "mimetype": "text/x-python",
   "name": "python",
   "nbconvert_exporter": "python",
   "pygments_lexer": "ipython3",
   "version": "3.9.15"
  }
 },
 "nbformat": 4,
 "nbformat_minor": 5
}
